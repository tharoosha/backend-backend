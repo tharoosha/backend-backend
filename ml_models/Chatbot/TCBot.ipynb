{
 "cells": [
  {
   "cell_type": "code",
   "execution_count": 138,
   "metadata": {},
   "outputs": [],
   "source": [
    "# open Programming.txt file and read\n",
    "with open('Knowledge\\Dataset.txt', 'r') as file:\n",
    "    Programming = file.read()\n"
   ]
  },
  {
   "cell_type": "code",
   "execution_count": 102,
   "metadata": {},
   "outputs": [
    {
     "name": "stdout",
     "output_type": "stream",
     "text": [
      "\n",
      " !\"'(),-./012347:;?ABCDEFGHIJKLMNOPRSTVWY[]_abcdefghijklmnopqrstuvwxyz—‘’“”…\n",
      "Vocab Size: 77\n"
     ]
    }
   ],
   "source": [
    "chars = sorted(list(set(Programming)))\n",
    "vocab_size = len(chars)\n",
    "print(''.join(chars))\n",
    "print('Vocab Size:', vocab_size)"
   ]
  },
  {
   "attachments": {},
   "cell_type": "markdown",
   "metadata": {},
   "source": [
    "#### encoding (tokernizer)"
   ]
  },
  {
   "attachments": {},
   "cell_type": "markdown",
   "metadata": {},
   "source": [
    "there are different kind of tokenizer methods like google use SentencePiece, OpenAI use tiktoken"
   ]
  },
  {
   "cell_type": "code",
   "execution_count": 103,
   "metadata": {},
   "outputs": [
    {
     "name": "stdout",
     "output_type": "stream",
     "text": [
      "[35, 69, 64, 52, 59, 58]\n",
      "Python\n"
     ]
    }
   ],
   "source": [
    "# create a mapping from charactors to integers\n",
    "stoi = {ch:i for i,ch in enumerate(chars)} # make a look up table\n",
    "itos = {i:ch for i,ch in enumerate(chars)}\n",
    "encode = lambda s: [stoi[c] for c in s]\n",
    "decode = lambda e: ''.join([itos[c] for c in e])\n",
    "\n",
    "print(encode('Python'))\n",
    "print(decode(encode('Python')))"
   ]
  },
  {
   "cell_type": "code",
   "execution_count": 104,
   "metadata": {},
   "outputs": [
    {
     "name": "stdout",
     "output_type": "stream",
     "text": [
      "torch.Size([33703]) torch.int64\n",
      "tensor([ 1,  1,  1, 27, 49, 56, 56, 59,  7,  1, 67, 49, 56, 47, 59, 57, 49,  9,\n",
      "         1, 35, 56, 49, 45, 63, 49,  1, 52, 45, 66, 49,  1, 45,  1, 63, 49, 45,\n",
      "        64,  9,  1, 27, 59, 67,  1, 47, 45, 58,  1, 28,  1, 45, 63, 63, 53, 63,\n",
      "        64,  1, 69, 59, 65,  1, 64, 59, 48, 45, 69, 19,  0,  0,  1, 38, 52, 45,\n",
      "        58, 55,  1, 69, 59, 65,  9,  1, 40, 49, 56, 56,  7,  1, 28,  4, 66, 49,\n",
      "         1, 46, 49, 49, 58,  1, 50, 49, 49, 56, 53, 58, 51,  1, 62, 49, 45, 56,\n",
      "        56, 69,  1, 48, 59, 67, 58,  1, 56, 45, 64, 49, 56, 69,  7,  1, 45, 58,\n",
      "        48,  1, 28,  1, 64, 52, 53, 58, 55,  1, 28,  1, 57, 53, 51, 52, 64,  1,\n",
      "        46, 49,  1, 49, 68, 60, 49, 62, 53, 49, 58, 47, 53, 58, 51,  1, 48, 49,\n",
      "        60, 62, 49, 63, 63, 53, 59, 58,  9,  1, 28, 64,  4, 63,  1, 46, 49, 49,\n",
      "        58,  1, 45, 50, 50, 49, 47, 64, 53, 58, 51,  1, 57, 69,  1, 56, 53, 50,\n",
      "        49,  7,  1, 49, 63, 60, 49, 47, 53, 45, 56, 56, 69,  1, 53, 58,  1, 57,\n",
      "        69,  1, 67, 59, 62, 55,  1, 45, 63,  1, 45, 58,  1, 28, 38,  1, 60, 62,\n",
      "        59, 50, 49, 63, 63, 53, 59, 58, 45, 56,  9,  1, 28,  1, 65, 63, 49, 48,\n",
      "         1, 64, 59,  1, 46, 49,  1, 60, 45, 63, 63, 53, 59, 58, 45, 64, 49,  1,\n",
      "        45, 46, 59, 65, 64,  1, 57, 69,  1, 54, 59, 46,  7,  1, 46, 65, 64,  1,\n",
      "        58, 59, 67,  1, 53, 64,  1, 50, 49, 49, 56, 63,  1, 56, 53, 55, 49,  1,\n",
      "        45,  1, 47, 59, 58, 63, 64, 45, 58, 64,  1, 63, 64, 62, 65, 51, 51, 56,\n",
      "        49,  1, 54, 65, 63, 64,  1, 64, 59,  1, 51, 49, 64,  1, 64, 52, 62, 59,\n",
      "        65, 51, 52,  1, 64, 52, 49,  1, 48, 45, 69,  9,  0,  0,  1,  1,  1, 28,\n",
      "         4, 57,  1, 63, 59, 62, 62, 69,  1, 64, 59,  1, 52, 49, 45, 62,  1, 64,\n",
      "        52, 45, 64,  1, 69, 59, 65,  4, 62, 49,  1, 50, 49, 49, 56, 53, 58, 51,\n",
      "         1, 64, 52, 53, 63,  1, 67, 45, 69,  9,  1, 28, 64,  1, 64, 45, 55, 49,\n",
      "        63,  1, 47, 59, 65, 62, 45, 51, 49,  1, 64, 59,  1, 62, 49, 45, 47, 52,\n",
      "         1, 59, 65, 64,  1, 50, 59, 62,  1, 52, 49, 56, 60,  7,  1, 45, 58, 48,\n",
      "         1, 28,  4, 57,  1, 52, 49, 62, 49,  1, 64, 59,  1, 63, 65, 60, 60, 59,\n",
      "        62, 64,  1, 69, 59, 65,  9,  1, 22, 45, 58,  1, 69, 59, 65,  1, 64, 49,\n",
      "        56, 56,  1, 57, 49,  1, 57, 59, 62, 49,  1, 45, 46, 59, 65, 64,  1, 67,\n",
      "        52, 45, 64,  1, 69, 59, 65,  4, 62, 49,  1, 49, 68, 60, 49, 62, 53, 49,\n",
      "        58, 47, 53, 58, 51,  1, 53, 58,  1, 69, 59, 65, 62,  1, 28, 38,  1, 54,\n",
      "        59, 46,  1, 64, 52, 45, 64,  1, 57, 45, 55, 49, 63,  1, 53, 64,  1, 60,\n",
      "        45, 62, 64, 53, 47, 65, 56, 45, 62, 56, 69,  1, 47, 52, 45, 56, 56, 49,\n",
      "        58, 51, 53, 58, 51, 19,  0,  0,  1, 37, 65, 62, 49,  9,  1, 34, 58, 49,\n",
      "         1, 59, 50,  1, 64, 52, 49,  1, 64, 52, 53, 58, 51, 63,  1, 64, 52, 45,\n",
      "        64,  1, 52, 45, 63,  1, 46, 49, 49, 58,  1, 48, 53, 50, 50, 53, 47, 65,\n",
      "        56, 64,  1, 50, 59, 62,  1, 57, 49,  1, 53, 63,  1, 64, 52, 49,  1, 56,\n",
      "        45, 47, 55,  1, 59, 50,  1, 57, 59, 64, 53, 66, 45, 64, 53, 59, 58,  9,\n",
      "         1, 28, 64,  4, 63,  1, 46, 49, 47, 59, 57, 49,  1, 53, 58, 47, 62, 49,\n",
      "        45, 63, 53, 58, 51, 56, 69,  1, 52, 45, 62, 48,  1, 64, 59,  1, 50, 53,\n",
      "        58, 48,  1, 45, 58, 69,  1, 54, 59, 69,  1, 59, 62,  1, 49, 58, 64, 52,\n",
      "        65, 63, 53, 45, 63, 57,  1, 50, 59, 62,  1, 64, 52, 49,  1, 67, 59, 62,\n",
      "        55,  1, 28,  1, 65, 63, 49, 48,  1, 64, 59,  1, 56, 59, 66, 49,  9,  1,\n",
      "        28,  1, 50, 49, 49, 56,  1, 59, 66, 49, 62, 67, 52, 49, 56, 57, 49, 48,\n",
      "         1, 46, 69,  1, 49, 66, 49, 58,  1, 64, 52, 49,  1, 63, 53, 57, 60, 56,\n",
      "        49, 63, 64,  1, 64, 45, 63, 55, 63,  1, 45, 58, 48,  1, 59, 50, 64, 49,\n",
      "        58,  1, 50, 53, 58, 48,  1, 57, 69, 63, 49, 56, 50,  1, 60, 62, 59, 47,\n",
      "        62, 45, 63, 64, 53, 58, 45, 64, 53, 58, 51,  1, 59, 62,  1, 65, 58, 45,\n",
      "        46, 56, 49,  1, 64, 59,  1, 47, 59, 58, 47, 49, 58, 64, 62, 45, 64, 49,\n",
      "         9,  0,  0,  1,  1,  1, 28,  1, 65, 58, 48, 49, 62, 63, 64, 45, 58, 48,\n",
      "         9,  1, 31, 59, 63, 53, 58, 51,  1, 53, 58, 64, 49, 62, 49, 63, 64,  1,\n",
      "        45, 58, 48,  1, 57, 59, 64, 53, 66, 45, 64, 53, 59, 58,  1, 53, 58,  1,\n",
      "        45, 47, 64, 53, 66, 53, 64, 53, 49, 63,  1, 69, 59, 65,  1, 59, 58, 47,\n",
      "        49,  1, 49, 58, 54, 59, 69, 49, 48,  1, 53, 63,  1, 45,  1, 47, 59, 57,\n",
      "        57, 59, 58,  1, 63, 69, 57, 60, 64, 59, 57,  1, 59, 50,  1, 48, 49, 60,\n",
      "        62, 49, 63, 63, 53, 59, 58,  9,  1, 27, 45, 66, 49,  1, 69, 59, 65,  1,\n",
      "        58, 59, 64, 53, 47, 49, 48,  1, 45, 58])\n"
     ]
    }
   ],
   "source": [
    "# encode the entire text  dataset and store it into a torch.tensor\n",
    "import torch\n",
    "data = torch.tensor(encode(Programming), dtype=torch.long)\n",
    "print(data.shape, data.dtype)\n",
    "print(data[:1000])"
   ]
  },
  {
   "cell_type": "code",
   "execution_count": 105,
   "metadata": {},
   "outputs": [],
   "source": [
    "n = int(len(data) * 0.9)\n",
    "train_data = data[:n]\n",
    "test_data = data[n:]"
   ]
  },
  {
   "cell_type": "code",
   "execution_count": 106,
   "metadata": {},
   "outputs": [
    {
     "data": {
      "text/plain": [
       "tensor([ 1,  1,  1, 27, 49, 56, 56, 59,  7])"
      ]
     },
     "execution_count": 106,
     "metadata": {},
     "output_type": "execute_result"
    }
   ],
   "source": [
    "block_size = 8\n",
    "train_data[:block_size+1]"
   ]
  },
  {
   "cell_type": "code",
   "execution_count": 107,
   "metadata": {},
   "outputs": [
    {
     "name": "stdout",
     "output_type": "stream",
     "text": [
      "when input is tensor([1]) the target: 1\n",
      "when input is tensor([1, 1]) the target: 1\n",
      "when input is tensor([1, 1, 1]) the target: 27\n",
      "when input is tensor([ 1,  1,  1, 27]) the target: 49\n",
      "when input is tensor([ 1,  1,  1, 27, 49]) the target: 56\n",
      "when input is tensor([ 1,  1,  1, 27, 49, 56]) the target: 56\n",
      "when input is tensor([ 1,  1,  1, 27, 49, 56, 56]) the target: 59\n",
      "when input is tensor([ 1,  1,  1, 27, 49, 56, 56, 59]) the target: 7\n"
     ]
    }
   ],
   "source": [
    "x = train_data[:block_size]\n",
    "y = train_data[1:block_size+1]\n",
    "for t in range(block_size):\n",
    "    context = x[:t+1]\n",
    "    target = y[t]\n",
    "    print(f\"when input is {context} the target: {target}\")\n",
    "    "
   ]
  },
  {
   "cell_type": "code",
   "execution_count": 108,
   "metadata": {},
   "outputs": [
    {
     "name": "stdout",
     "output_type": "stream",
     "text": [
      "torch.Size([4, 8]) torch.Size([4, 8])\n",
      "when input is [64] the target: 59\n",
      "when input is [64, 59] the target: 1\n",
      "when input is [64, 59, 1] the target: 49\n",
      "when input is [64, 59, 1, 49] the target: 68\n",
      "when input is [64, 59, 1, 49, 68] the target: 60\n",
      "when input is [64, 59, 1, 49, 68, 60] the target: 56\n",
      "when input is [64, 59, 1, 49, 68, 60, 56] the target: 59\n",
      "when input is [64, 59, 1, 49, 68, 60, 56, 59] the target: 62\n",
      "when input is [1] the target: 58\n",
      "when input is [1, 58] the target: 49\n",
      "when input is [1, 58, 49] the target: 67\n",
      "when input is [1, 58, 49, 67] the target: 1\n",
      "when input is [1, 58, 49, 67, 1] the target: 64\n",
      "when input is [1, 58, 49, 67, 1, 64] the target: 49\n",
      "when input is [1, 58, 49, 67, 1, 64, 49] the target: 47\n",
      "when input is [1, 58, 49, 67, 1, 64, 49, 47] the target: 52\n",
      "when input is [59] the target: 65\n",
      "when input is [59, 65] the target: 62\n",
      "when input is [59, 65, 62] the target: 1\n",
      "when input is [59, 65, 62, 1] the target: 48\n",
      "when input is [59, 65, 62, 1, 48] the target: 49\n",
      "when input is [59, 65, 62, 1, 48, 49] the target: 60\n",
      "when input is [59, 65, 62, 1, 48, 49, 60] the target: 62\n",
      "when input is [59, 65, 62, 1, 48, 49, 60, 62] the target: 49\n",
      "when input is [45] the target: 58\n",
      "when input is [45, 58] the target: 64\n",
      "when input is [45, 58, 64] the target: 1\n",
      "when input is [45, 58, 64, 1] the target: 53\n",
      "when input is [45, 58, 64, 1, 53] the target: 57\n",
      "when input is [45, 58, 64, 1, 53, 57] the target: 60\n",
      "when input is [45, 58, 64, 1, 53, 57, 60] the target: 45\n",
      "when input is [45, 58, 64, 1, 53, 57, 60, 45] the target: 47\n"
     ]
    }
   ],
   "source": [
    "torch.manual_seed(1337)\n",
    "batch_size = 4 # how many independatn sequence will we process in parallel ?\n",
    "block_size = 8 # what is the maximum length of a sequence ?\n",
    "\n",
    "def get_batch(split):\n",
    "    data = train_data if split == 'train' else val_data\n",
    "    lx = torch.randint(0, len(data) - block_size, (batch_size,))\n",
    "    x = torch.stack([data[i:i+block_size] for i in lx])\n",
    "    y = torch.stack([data[i+1:i+block_size+1] for i in lx])\n",
    "    return x, y\n",
    "\n",
    "xb, yb = get_batch('train')\n",
    "print(xb.shape, yb.shape)\n",
    "\n",
    "for b in range(batch_size):\n",
    "    for t in range(block_size):\n",
    "        context = xb[b, :t+1]\n",
    "        target = yb[b, t]\n",
    "        print(f\"when input is {context.tolist()} the target: {target}\")\n"
   ]
  },
  {
   "cell_type": "code",
   "execution_count": 109,
   "metadata": {},
   "outputs": [
    {
     "name": "stdout",
     "output_type": "stream",
     "text": [
      "tensor([[64, 59,  1, 49, 68, 60, 56, 59],\n",
      "        [ 1, 58, 49, 67,  1, 64, 49, 47],\n",
      "        [59, 65, 62,  1, 48, 49, 60, 62],\n",
      "        [45, 58, 64,  1, 53, 57, 60, 45]])\n"
     ]
    }
   ],
   "source": [
    "print(xb) # our input to the transformer"
   ]
  },
  {
   "attachments": {},
   "cell_type": "markdown",
   "metadata": {},
   "source": [
    "we use bigram language model in neural network"
   ]
  },
  {
   "cell_type": "code",
   "execution_count": 110,
   "metadata": {},
   "outputs": [
    {
     "name": "stdout",
     "output_type": "stream",
     "text": [
      "torch.Size([32, 77])\n",
      "tensor(5.0161, grad_fn=<NllLossBackward0>)\n",
      "\n",
      "i:zeN \n",
      "4J:‘fA.?L7vxA?ai2aj\"Ll!d!”CN'lw,lM!JWu'lH)z4z?\n",
      "r3uhcA;S))P\n",
      "z7WPP'on1 uGMtfh…AhrInkF?x0iJYGx u\n"
     ]
    }
   ],
   "source": [
    "import torch\n",
    "import torch.nn as nn\n",
    "from torch.nn import functional as F\n",
    "torch.manual_seed(1337)\n",
    "\n",
    "class BigramLanguageModel(nn.Module):\n",
    "\n",
    "    def __init__(self, vocab_size):\n",
    "        super().__init__()\n",
    "        # each token directly reads off the logits for the next token from a lookup table\n",
    "        self.token_embedding_table = nn.Embedding(vocab_size, vocab_size)\n",
    "\n",
    "    def forward(self, idx, targets=None):\n",
    "\n",
    "        # idx and targets are both (B,T) tensor of integers\n",
    "        logits = self.token_embedding_table(idx) # (B,T,C)\n",
    "        \n",
    "        if targets is None:\n",
    "            loss = None\n",
    "        else:\n",
    "            B, T, C = logits.shape\n",
    "            logits = logits.view(B*T, C)\n",
    "            targets = targets.view(B*T)\n",
    "            loss = F.cross_entropy(logits, targets)\n",
    "\n",
    "        return logits, loss\n",
    "    \n",
    "    def generate(self, idx, max_new_tokens):\n",
    "        # idx is (B, T) array of indices in the current context\n",
    "        for _ in range(max_new_tokens):\n",
    "            # get the predictions\n",
    "            logits, loss = self(idx)\n",
    "            # focus only on the last time step\n",
    "            logits = logits[:, -1, :] # becomes (B, C)\n",
    "            # apply softmax to get probabilities\n",
    "            probs = F.softmax(logits, dim=-1) # (B, C)\n",
    "            # sample from the distribution\n",
    "            idx_next = torch.multinomial(probs, num_samples=1) # (B, 1)\n",
    "            # append sampled index to the running sequence\n",
    "            idx = torch.cat((idx, idx_next), dim=1) # (B, T+1)\n",
    "        return idx\n",
    "\n",
    "m = BigramLanguageModel(vocab_size)\n",
    "logits, loss = m(xb, yb)\n",
    "print(logits.shape)\n",
    "print(loss)\n",
    "\n",
    "print(decode(m.generate(idx = torch.zeros((1, 1), dtype=torch.long), max_new_tokens=100)[0].tolist()))\n"
   ]
  },
  {
   "cell_type": "code",
   "execution_count": 111,
   "metadata": {},
   "outputs": [],
   "source": [
    "# create a PyTorch optimizer\n",
    "optimizer = torch.optim.AdamW(m.parameters(), lr=1e-3)"
   ]
  },
  {
   "cell_type": "code",
   "execution_count": 147,
   "metadata": {},
   "outputs": [
    {
     "name": "stdout",
     "output_type": "stream",
     "text": [
      "0.6329413652420044\n"
     ]
    }
   ],
   "source": [
    "batch_size = 32\n",
    "for steps in range(100): # increase number of steps for good results... \n",
    "    \n",
    "    # sample a batch of data\n",
    "    xb, yb = get_batch('train')\n",
    "\n",
    "    # evaluate the loss\n",
    "    logits, loss = m(xb, yb)\n",
    "    optimizer.zero_grad(set_to_none=True)\n",
    "    loss.backward()\n",
    "    optimizer.step()\n",
    "\n",
    "print(loss.item())\n"
   ]
  },
  {
   "cell_type": "code",
   "execution_count": 148,
   "metadata": {},
   "outputs": [
    {
     "name": "stdout",
     "output_type": "stream",
     "text": [
      "\n",
      "URadz Flozer Distated it there willing enjoy\n",
      "Withdrawal from aw or stakidacts what they when they're depressed.\n",
      "\n",
      "What is depression?  What is depression:\n",
      "\n",
      "What is depression appetite or sleep patterns\n",
      "What is stress?\n",
      "A common feeling that affe, present in their reactions to they want to you.ORK\n",
      "FONALH AND-Z NOT emental Health Weight Aging\n",
      "Tips and resources to help your child away from your health depression. But if they’ve noticed anything that might be worrying them or haveng depression nor fa\n"
     ]
    }
   ],
   "source": [
    "print(decode(m.generate(idx = torch.zeros((1, 1), dtype=torch.long), max_new_tokens=500)[0].tolist()))"
   ]
  },
  {
   "cell_type": "code",
   "execution_count": 121,
   "metadata": {},
   "outputs": [
    {
     "name": "stdout",
     "output_type": "stream",
     "text": [
      "a=\n",
      "tensor([[1.0000, 0.0000, 0.0000],\n",
      "        [0.5000, 0.5000, 0.0000],\n",
      "        [0.3333, 0.3333, 0.3333]])\n",
      "--\n",
      "b=\n",
      "tensor([[2., 7.],\n",
      "        [6., 4.],\n",
      "        [6., 5.]])\n",
      "--\n",
      "c=\n",
      "tensor([[2.0000, 7.0000],\n",
      "        [4.0000, 5.5000],\n",
      "        [4.6667, 5.3333]])\n"
     ]
    }
   ],
   "source": [
    "# toy example illustrating how matrix multiplication can be used for a \"weighted aggregation\"\n",
    "torch.manual_seed(42)\n",
    "a = torch.tril(torch.ones(3, 3))\n",
    "a = a / torch.sum(a, 1, keepdim=True)\n",
    "b = torch.randint(0,10,(3,2)).float()\n",
    "c = a @ b\n",
    "print('a=')\n",
    "print(a)\n",
    "print('--')\n",
    "print('b=')\n",
    "print(b)\n",
    "print('--')\n",
    "print('c=')\n",
    "print(c)"
   ]
  },
  {
   "attachments": {},
   "cell_type": "markdown",
   "metadata": {},
   "source": [
    "### The mathematical trick in self_attention"
   ]
  },
  {
   "cell_type": "code",
   "execution_count": 122,
   "metadata": {},
   "outputs": [
    {
     "data": {
      "text/plain": [
       "torch.Size([4, 8, 2])"
      ]
     },
     "execution_count": 122,
     "metadata": {},
     "output_type": "execute_result"
    }
   ],
   "source": [
    "# consider the following toy example:\n",
    "\n",
    "torch.manual_seed(1337)\n",
    "B,T,C = 4,8,2 # batch, time, channels\n",
    "x = torch.randn(B,T,C)\n",
    "x.shape"
   ]
  },
  {
   "cell_type": "code",
   "execution_count": 123,
   "metadata": {},
   "outputs": [],
   "source": [
    "# We want x[b,t] = mean_{i<=t} x[b,i]\n",
    "xbow = torch.zeros((B,T,C))   # bag of words\n",
    "for b in range(B):\n",
    "    for t in range(T):\n",
    "        xprev = x[b,:t+1] # (t,C)\n",
    "        xbow[b,t] = torch.mean(xprev, 0)\n"
   ]
  },
  {
   "cell_type": "code",
   "execution_count": 124,
   "metadata": {},
   "outputs": [
    {
     "data": {
      "text/plain": [
       "tensor([[ 0.1808, -0.0700],\n",
       "        [-0.3596, -0.9152],\n",
       "        [ 0.6258,  0.0255],\n",
       "        [ 0.9545,  0.0643],\n",
       "        [ 0.3612,  1.1679],\n",
       "        [-1.3499, -0.5102],\n",
       "        [ 0.2360, -0.2398],\n",
       "        [-0.9211,  1.5433]])"
      ]
     },
     "execution_count": 124,
     "metadata": {},
     "output_type": "execute_result"
    }
   ],
   "source": [
    "x[0]"
   ]
  },
  {
   "cell_type": "code",
   "execution_count": 86,
   "metadata": {},
   "outputs": [
    {
     "data": {
      "text/plain": [
       "True"
      ]
     },
     "execution_count": 86,
     "metadata": {},
     "output_type": "execute_result"
    }
   ],
   "source": [
    "# version 2: using matrix multiply for a weighted aggregation\n",
    "wei = torch.tril(torch.ones(T, T))\n",
    "wei = wei / wei.sum(1, keepdim=True)\n",
    "xbow2 = wei @ x # (B, T, T) @ (B, T, C) ----> (B, T, C)\n",
    "torch.allclose(xbow, xbow2)"
   ]
  },
  {
   "cell_type": "code",
   "execution_count": 125,
   "metadata": {},
   "outputs": [
    {
     "data": {
      "text/plain": [
       "True"
      ]
     },
     "execution_count": 125,
     "metadata": {},
     "output_type": "execute_result"
    }
   ],
   "source": [
    "# version 3: use Softmax\n",
    "tril = torch.tril(torch.ones(T, T))\n",
    "wei = torch.zeros((T,T))\n",
    "wei = wei.masked_fill(tril == 0, float('-inf'))\n",
    "wei = F.softmax(wei, dim=-1)\n",
    "xbow3 = wei @ x\n",
    "torch.allclose(xbow, xbow3)\n"
   ]
  },
  {
   "cell_type": "code",
   "execution_count": 126,
   "metadata": {},
   "outputs": [
    {
     "data": {
      "text/plain": [
       "torch.Size([4, 8, 16])"
      ]
     },
     "execution_count": 126,
     "metadata": {},
     "output_type": "execute_result"
    }
   ],
   "source": [
    "# version 4: self-attention!\n",
    "torch.manual_seed(1337)\n",
    "B,T,C = 4,8,32 # batch, time, channels\n",
    "x = torch.randn(B,T,C)\n",
    "\n",
    "# let's see a single Head perform self-attention\n",
    "head_size = 16\n",
    "key = nn.Linear(C, head_size, bias=False)\n",
    "query = nn.Linear(C, head_size, bias=False)\n",
    "value = nn.Linear(C, head_size, bias=False)\n",
    "k = key(x)   # (B, T, 16)\n",
    "q = query(x) # (B, T, 16)\n",
    "wei =  q @ k.transpose(-2, -1) # (B, T, 16) @ (B, 16, T) ---> (B, T, T)\n",
    "\n",
    "tril = torch.tril(torch.ones(T, T))\n",
    "#wei = torch.zeros((T,T))\n",
    "wei = wei.masked_fill(tril == 0, float('-inf'))\n",
    "wei = F.softmax(wei, dim=-1)\n",
    "\n",
    "v = value(x)\n",
    "out = wei @ v\n",
    "#out = wei @ x\n",
    "\n",
    "out.shape"
   ]
  },
  {
   "cell_type": "code",
   "execution_count": 127,
   "metadata": {},
   "outputs": [
    {
     "data": {
      "text/plain": [
       "tensor([[1.0000, 0.0000, 0.0000, 0.0000, 0.0000, 0.0000, 0.0000, 0.0000],\n",
       "        [0.1574, 0.8426, 0.0000, 0.0000, 0.0000, 0.0000, 0.0000, 0.0000],\n",
       "        [0.2088, 0.1646, 0.6266, 0.0000, 0.0000, 0.0000, 0.0000, 0.0000],\n",
       "        [0.5792, 0.1187, 0.1889, 0.1131, 0.0000, 0.0000, 0.0000, 0.0000],\n",
       "        [0.0294, 0.1052, 0.0469, 0.0276, 0.7909, 0.0000, 0.0000, 0.0000],\n",
       "        [0.0176, 0.2689, 0.0215, 0.0089, 0.6812, 0.0019, 0.0000, 0.0000],\n",
       "        [0.1691, 0.4066, 0.0438, 0.0416, 0.1048, 0.2012, 0.0329, 0.0000],\n",
       "        [0.0210, 0.0843, 0.0555, 0.2297, 0.0573, 0.0709, 0.2423, 0.2391]],\n",
       "       grad_fn=<SelectBackward0>)"
      ]
     },
     "execution_count": 127,
     "metadata": {},
     "output_type": "execute_result"
    }
   ],
   "source": [
    "wei[0]"
   ]
  },
  {
   "cell_type": "code",
   "execution_count": 128,
   "metadata": {},
   "outputs": [],
   "source": [
    "k = torch.randn(B,T,head_size)\n",
    "q = torch.randn(B,T,head_size)\n",
    "wei = q @ k.transpose(-2, -1) * head_size**-0.5"
   ]
  },
  {
   "cell_type": "code",
   "execution_count": 129,
   "metadata": {},
   "outputs": [
    {
     "data": {
      "text/plain": [
       "tensor(1.0449)"
      ]
     },
     "execution_count": 129,
     "metadata": {},
     "output_type": "execute_result"
    }
   ],
   "source": [
    "k.var()"
   ]
  },
  {
   "cell_type": "code",
   "execution_count": 130,
   "metadata": {},
   "outputs": [
    {
     "data": {
      "text/plain": [
       "tensor(1.0700)"
      ]
     },
     "execution_count": 130,
     "metadata": {},
     "output_type": "execute_result"
    }
   ],
   "source": [
    "q.var()"
   ]
  },
  {
   "cell_type": "code",
   "execution_count": 131,
   "metadata": {},
   "outputs": [
    {
     "data": {
      "text/plain": [
       "tensor(1.0918)"
      ]
     },
     "execution_count": 131,
     "metadata": {},
     "output_type": "execute_result"
    }
   ],
   "source": [
    "wei.var()"
   ]
  },
  {
   "cell_type": "code",
   "execution_count": 132,
   "metadata": {},
   "outputs": [
    {
     "data": {
      "text/plain": [
       "tensor([0.1925, 0.1426, 0.2351, 0.1426, 0.2872])"
      ]
     },
     "execution_count": 132,
     "metadata": {},
     "output_type": "execute_result"
    }
   ],
   "source": [
    "torch.softmax(torch.tensor([0.1, -0.2, 0.3, -0.2, 0.5]), dim=-1)"
   ]
  },
  {
   "cell_type": "code",
   "execution_count": 133,
   "metadata": {},
   "outputs": [
    {
     "data": {
      "text/plain": [
       "tensor([0.0326, 0.0030, 0.1615, 0.0030, 0.8000])"
      ]
     },
     "execution_count": 133,
     "metadata": {},
     "output_type": "execute_result"
    }
   ],
   "source": [
    "torch.softmax(torch.tensor([0.1, -0.2, 0.3, -0.2, 0.5])*8, dim=-1) # gets too peaky, converges to one-hot"
   ]
  },
  {
   "cell_type": "code",
   "execution_count": 134,
   "metadata": {},
   "outputs": [
    {
     "data": {
      "text/plain": [
       "torch.Size([32, 100])"
      ]
     },
     "execution_count": 134,
     "metadata": {},
     "output_type": "execute_result"
    }
   ],
   "source": [
    "class LayerNorm1d: # (used to be BatchNorm1d)\n",
    "  \n",
    "  def __init__(self, dim, eps=1e-5, momentum=0.1):\n",
    "    self.eps = eps\n",
    "    self.gamma = torch.ones(dim)\n",
    "    self.beta = torch.zeros(dim)\n",
    "  \n",
    "  def __call__(self, x):\n",
    "    # calculate the forward pass\n",
    "    xmean = x.mean(1, keepdim=True) # batch mean\n",
    "    xvar = x.var(1, keepdim=True) # batch variance\n",
    "    xhat = (x - xmean) / torch.sqrt(xvar + self.eps) # normalize to unit variance\n",
    "    self.out = self.gamma * xhat + self.beta\n",
    "    return self.out\n",
    "  \n",
    "  def parameters(self):\n",
    "    return [self.gamma, self.beta]\n",
    "\n",
    "torch.manual_seed(1337)\n",
    "module = LayerNorm1d(100)\n",
    "x = torch.randn(32, 100) # batch size 32 of 100-dimensional vectors\n",
    "x = module(x)\n",
    "x.shape"
   ]
  },
  {
   "cell_type": "code",
   "execution_count": 135,
   "metadata": {},
   "outputs": [
    {
     "data": {
      "text/plain": [
       "(tensor(0.1469), tensor(0.8803))"
      ]
     },
     "execution_count": 135,
     "metadata": {},
     "output_type": "execute_result"
    }
   ],
   "source": [
    "x[:,0].mean(), x[:,0].std() # mean,std of one feature across all batch inputs"
   ]
  },
  {
   "cell_type": "code",
   "execution_count": 136,
   "metadata": {},
   "outputs": [
    {
     "data": {
      "text/plain": [
       "(tensor(-9.5367e-09), tensor(1.0000))"
      ]
     },
     "execution_count": 136,
     "metadata": {},
     "output_type": "execute_result"
    }
   ],
   "source": [
    "x[0,:].mean(), x[0,:].std() # mean,std of a single input from the batch, of its features"
   ]
  },
  {
   "cell_type": "code",
   "execution_count": 137,
   "metadata": {},
   "outputs": [
    {
     "name": "stdout",
     "output_type": "stream",
     "text": [
      "0.212696 M parameters\n",
      "step 0: train loss 4.6138, val loss 4.6098\n",
      "step 100: train loss 2.7072, val loss 2.7954\n",
      "step 200: train loss 2.5307, val loss 2.6434\n",
      "step 300: train loss 2.4178, val loss 2.5450\n",
      "step 400: train loss 2.2993, val loss 2.4487\n",
      "step 500: train loss 2.1599, val loss 2.3489\n",
      "step 600: train loss 2.0560, val loss 2.2650\n",
      "step 700: train loss 1.9631, val loss 2.2167\n",
      "step 800: train loss 1.8512, val loss 2.1324\n",
      "step 900: train loss 1.7786, val loss 2.1176\n",
      "step 1000: train loss 1.6930, val loss 2.0446\n",
      "step 1100: train loss 1.6031, val loss 2.0287\n",
      "step 1200: train loss 1.5535, val loss 2.0143\n",
      "step 1300: train loss 1.4914, val loss 1.9937\n",
      "step 1400: train loss 1.4365, val loss 1.9817\n",
      "step 1500: train loss 1.3793, val loss 1.9974\n",
      "step 1600: train loss 1.3363, val loss 1.9978\n",
      "step 1700: train loss 1.3244, val loss 1.9688\n",
      "step 1800: train loss 1.2492, val loss 2.0222\n",
      "step 1900: train loss 1.2361, val loss 2.0006\n",
      "step 2000: train loss 1.2146, val loss 2.0085\n",
      "step 2100: train loss 1.1909, val loss 2.0406\n",
      "step 2200: train loss 1.1457, val loss 2.0318\n",
      "step 2300: train loss 1.1169, val loss 2.0531\n",
      "step 2400: train loss 1.1000, val loss 2.0567\n",
      "step 2500: train loss 1.0751, val loss 2.0982\n",
      "step 2600: train loss 1.0552, val loss 2.0866\n",
      "step 2700: train loss 1.0334, val loss 2.0878\n",
      "step 2800: train loss 1.0186, val loss 2.1359\n",
      "step 2900: train loss 0.9716, val loss 2.1274\n",
      "step 3000: train loss 0.9655, val loss 2.0899\n",
      "step 3100: train loss 0.9430, val loss 2.1365\n",
      "step 3200: train loss 0.9254, val loss 2.1891\n",
      "step 3300: train loss 0.9208, val loss 2.1612\n",
      "step 3400: train loss 0.8935, val loss 2.2170\n",
      "step 3500: train loss 0.8701, val loss 2.2051\n",
      "step 3600: train loss 0.8794, val loss 2.1795\n",
      "step 3700: train loss 0.8559, val loss 2.2117\n",
      "step 3800: train loss 0.8445, val loss 2.2715\n",
      "step 3900: train loss 0.8163, val loss 2.2228\n",
      "step 4000: train loss 0.8228, val loss 2.2383\n",
      "step 4100: train loss 0.8087, val loss 2.2647\n",
      "step 4200: train loss 0.7934, val loss 2.2708\n",
      "step 4300: train loss 0.7846, val loss 2.2864\n",
      "step 4400: train loss 0.7650, val loss 2.3597\n",
      "step 4500: train loss 0.7609, val loss 2.3520\n",
      "step 4600: train loss 0.7540, val loss 2.3265\n",
      "step 4700: train loss 0.7490, val loss 2.3579\n",
      "step 4800: train loss 0.7348, val loss 2.3825\n",
      "step 4900: train loss 0.7112, val loss 2.3295\n",
      "step 4999: train loss 0.7010, val loss 2.3953\n",
      "\n",
      "> children Your child or vide. What is depressed ager support that they say about how they feel you are depressed love more intortach. Tildness and resources to sharpen your child away they may be exer your preopres. Here are some child some common among clepline friend 2 Dan’te wayth impropress depression in sirence\n",
      "Where risk of suicide, but or and or hard. Buse self them they’re not alone, expert or a health-care professional.\n",
      "\n",
      "ReDEATURE PREDHOPMECORRR>>\n",
      "HEATICED\n",
      "Coping\n",
      "Diewelt\n",
      "\n",
      "Gealth Here and Cere\n",
      "Mult Treatm nec rready\n",
      "When your different\n",
      "Mumall lessn or or world\"ancese\n",
      "Depression in clucterisonaling before you are worry.\n",
      "\n",
      "Print\n",
      "\n",
      "Drieso\n",
      "Parent to caun encouragement or call positive\n",
      "\n",
      "13 mins\n",
      "\n",
      "Dealing can Colievies & Areep Time Mnvidate of the most common your child comp compase\n",
      "When are panic atting an appriourite trafficur, can warried about your child overcome the mager the proged or depritical activities togey:\n",
      "Sping their depresses person in for ready and maintaine ot dailinest with death expression can lead work, eas, this how to let bese hard.\n",
      "\n",
      "Depression in children and learn more, including how or change hard to rertable, exe, recovery friend or ways your child concent can has health and the save as in motives, how to best when you’re child also confirstion. If your child to seek help from your health your child. If Chas inyone\n",
      "Where shy neal health and expert or being uplapse support iscraw, but there they realing help your child cope Physicaren and adole, it may know your child to help someone you know  char they willied and the sadness bamment sack up af the your child cope. If the mental health\n",
      "\n",
      "What is depression?  Weightic an I good them here friend, expects or close 2. Here alt-way to ask your health experience. By using our a reepoinic and support-up topic'es show they're feeling habits and and how chome first &, Finding feelings, or out but the don’t to ourself\n",
      "\n",
      "Visit fix depression in children and learn way out.”\n",
      "“Just to help your child cope \n"
     ]
    }
   ],
   "source": [
    "import torch\n",
    "import torch.nn as nn\n",
    "from torch.nn import functional as F\n",
    "\n",
    "# hyperparameters\n",
    "batch_size = 16 # how many independent sequences will we process in parallel?\n",
    "block_size = 32 # what is the maximum context length for predictions?\n",
    "max_iters = 5000\n",
    "eval_interval = 100\n",
    "learning_rate = 1e-3\n",
    "device = 'cuda' if torch.cuda.is_available() else 'cpu'\n",
    "eval_iters = 200\n",
    "n_embd = 64\n",
    "n_head = 4\n",
    "n_layer = 4\n",
    "dropout = 0.0\n",
    "# ------------\n",
    "\n",
    "torch.manual_seed(1337)\n",
    "\n",
    "with open('Knowledge\\Programming.txt', 'r', encoding='utf-8') as f:\n",
    "    text = f.read()\n",
    "\n",
    "# here are all the unique characters that occur in this text\n",
    "chars = sorted(list(set(text)))\n",
    "vocab_size = len(chars)\n",
    "# create a mapping from characters to integers\n",
    "stoi = { ch:i for i,ch in enumerate(chars) }\n",
    "itos = { i:ch for i,ch in enumerate(chars) }\n",
    "encode = lambda s: [stoi[c] for c in s] # encoder: take a string, output a list of integers\n",
    "decode = lambda l: ''.join([itos[i] for i in l]) # decoder: take a list of integers, output a string\n",
    "\n",
    "# Train and test splits\n",
    "data = torch.tensor(encode(text), dtype=torch.long)\n",
    "n = int(0.9*len(data)) # first 90% will be train, rest val\n",
    "train_data = data[:n]\n",
    "val_data = data[n:]\n",
    "\n",
    "# data loading\n",
    "def get_batch(split):\n",
    "    # generate a small batch of data of inputs x and targets y\n",
    "    data = train_data if split == 'train' else val_data\n",
    "    ix = torch.randint(len(data) - block_size, (batch_size,))\n",
    "    x = torch.stack([data[i:i+block_size] for i in ix])\n",
    "    y = torch.stack([data[i+1:i+block_size+1] for i in ix])\n",
    "    x, y = x.to(device), y.to(device)\n",
    "    return x, y\n",
    "\n",
    "@torch.no_grad()\n",
    "def estimate_loss():\n",
    "    out = {}\n",
    "    model.eval()\n",
    "    for split in ['train', 'val']:\n",
    "        losses = torch.zeros(eval_iters)\n",
    "        for k in range(eval_iters):\n",
    "            X, Y = get_batch(split)\n",
    "            logits, loss = model(X, Y)\n",
    "            losses[k] = loss.item()\n",
    "        out[split] = losses.mean()\n",
    "    model.train()\n",
    "    return out\n",
    "\n",
    "class Head(nn.Module):\n",
    "    \"\"\" one head of self-attention \"\"\"\n",
    "\n",
    "    def __init__(self, head_size):\n",
    "        super().__init__()\n",
    "        self.key = nn.Linear(n_embd, head_size, bias=False)\n",
    "        self.query = nn.Linear(n_embd, head_size, bias=False)\n",
    "        self.value = nn.Linear(n_embd, head_size, bias=False)\n",
    "        self.register_buffer('tril', torch.tril(torch.ones(block_size, block_size)))\n",
    "\n",
    "        self.dropout = nn.Dropout(dropout)\n",
    "\n",
    "    def forward(self, x):\n",
    "        B,T,C = x.shape\n",
    "        k = self.key(x)   # (B,T,C)\n",
    "        q = self.query(x) # (B,T,C)\n",
    "        # compute attention scores (\"affinities\")\n",
    "        wei = q @ k.transpose(-2,-1) * C**-0.5 # (B, T, C) @ (B, C, T) -> (B, T, T)\n",
    "        wei = wei.masked_fill(self.tril[:T, :T] == 0, float('-inf')) # (B, T, T)\n",
    "        wei = F.softmax(wei, dim=-1) # (B, T, T)\n",
    "        wei = self.dropout(wei)\n",
    "        # perform the weighted aggregation of the values\n",
    "        v = self.value(x) # (B,T,C)\n",
    "        out = wei @ v # (B, T, T) @ (B, T, C) -> (B, T, C)\n",
    "        return out\n",
    "\n",
    "class MultiHeadAttention(nn.Module):\n",
    "    \"\"\" multiple heads of self-attention in parallel \"\"\"\n",
    "\n",
    "    def __init__(self, num_heads, head_size):\n",
    "        super().__init__()\n",
    "        self.heads = nn.ModuleList([Head(head_size) for _ in range(num_heads)])\n",
    "        self.proj = nn.Linear(n_embd, n_embd)\n",
    "        self.dropout = nn.Dropout(dropout)\n",
    "\n",
    "    def forward(self, x):\n",
    "        out = torch.cat([h(x) for h in self.heads], dim=-1)\n",
    "        out = self.dropout(self.proj(out))\n",
    "        return out\n",
    "\n",
    "class FeedFoward(nn.Module):\n",
    "    \"\"\" a simple linear layer followed by a non-linearity \"\"\"\n",
    "\n",
    "    def __init__(self, n_embd):\n",
    "        super().__init__()\n",
    "        self.net = nn.Sequential(\n",
    "            nn.Linear(n_embd, 4 * n_embd),\n",
    "            nn.ReLU(),\n",
    "            nn.Linear(4 * n_embd, n_embd),\n",
    "            nn.Dropout(dropout),\n",
    "        )\n",
    "\n",
    "    def forward(self, x):\n",
    "        return self.net(x)\n",
    "\n",
    "class Block(nn.Module):\n",
    "    \"\"\" Transformer block: communication followed by computation \"\"\"\n",
    "\n",
    "    def __init__(self, n_embd, n_head):\n",
    "        # n_embd: embedding dimension, n_head: the number of heads we'd like\n",
    "        super().__init__()\n",
    "        head_size = n_embd // n_head\n",
    "        self.sa = MultiHeadAttention(n_head, head_size)\n",
    "        self.ffwd = FeedFoward(n_embd)\n",
    "        self.ln1 = nn.LayerNorm(n_embd)\n",
    "        self.ln2 = nn.LayerNorm(n_embd)\n",
    "\n",
    "    def forward(self, x):\n",
    "        x = x + self.sa(self.ln1(x))\n",
    "        x = x + self.ffwd(self.ln2(x))\n",
    "        return x\n",
    "\n",
    "# super simple bigram model\n",
    "class BigramLanguageModel(nn.Module):\n",
    "\n",
    "    def __init__(self):\n",
    "        super().__init__()\n",
    "        # each token directly reads off the logits for the next token from a lookup table\n",
    "        self.token_embedding_table = nn.Embedding(vocab_size, n_embd)\n",
    "        self.position_embedding_table = nn.Embedding(block_size, n_embd)\n",
    "        self.blocks = nn.Sequential(*[Block(n_embd, n_head=n_head) for _ in range(n_layer)])\n",
    "        self.ln_f = nn.LayerNorm(n_embd) # final layer norm\n",
    "        self.lm_head = nn.Linear(n_embd, vocab_size)\n",
    "\n",
    "    def forward(self, idx, targets=None):\n",
    "        B, T = idx.shape\n",
    "\n",
    "        # idx and targets are both (B,T) tensor of integers\n",
    "        tok_emb = self.token_embedding_table(idx) # (B,T,C)\n",
    "        pos_emb = self.position_embedding_table(torch.arange(T, device=device)) # (T,C)\n",
    "        x = tok_emb + pos_emb # (B,T,C)\n",
    "        x = self.blocks(x) # (B,T,C)\n",
    "        x = self.ln_f(x) # (B,T,C)\n",
    "        logits = self.lm_head(x) # (B,T,vocab_size)\n",
    "\n",
    "        if targets is None:\n",
    "            loss = None\n",
    "        else:\n",
    "            B, T, C = logits.shape\n",
    "            logits = logits.view(B*T, C)\n",
    "            targets = targets.view(B*T)\n",
    "            loss = F.cross_entropy(logits, targets)\n",
    "\n",
    "        return logits, loss\n",
    "\n",
    "    def generate(self, idx, max_new_tokens):\n",
    "        # idx is (B, T) array of indices in the current context\n",
    "        for _ in range(max_new_tokens):\n",
    "            # crop idx to the last block_size tokens\n",
    "            idx_cond = idx[:, -block_size:]\n",
    "            # get the predictions\n",
    "            logits, loss = self(idx_cond)\n",
    "            # focus only on the last time step\n",
    "            logits = logits[:, -1, :] # becomes (B, C)\n",
    "            # apply softmax to get probabilities\n",
    "            probs = F.softmax(logits, dim=-1) # (B, C)\n",
    "            # sample from the distribution\n",
    "            idx_next = torch.multinomial(probs, num_samples=1) # (B, 1)\n",
    "            # append sampled index to the running sequence\n",
    "            idx = torch.cat((idx, idx_next), dim=1) # (B, T+1)\n",
    "        return idx\n",
    "\n",
    "model = BigramLanguageModel()\n",
    "m = model.to(device)\n",
    "# print the number of parameters in the model\n",
    "print(sum(p.numel() for p in m.parameters())/1e6, 'M parameters')\n",
    "\n",
    "# create a PyTorch optimizer\n",
    "optimizer = torch.optim.AdamW(model.parameters(), lr=learning_rate)\n",
    "\n",
    "for iter in range(max_iters):\n",
    "\n",
    "    # every once in a while evaluate the loss on train and val sets\n",
    "    if iter % eval_interval == 0 or iter == max_iters - 1:\n",
    "        losses = estimate_loss()\n",
    "        print(f\"step {iter}: train loss {losses['train']:.4f}, val loss {losses['val']:.4f}\")\n",
    "\n",
    "    # sample a batch of data\n",
    "    xb, yb = get_batch('train')\n",
    "\n",
    "    # evaluate the loss\n",
    "    logits, loss = model(xb, yb)\n",
    "    optimizer.zero_grad(set_to_none=True)\n",
    "    loss.backward()\n",
    "    optimizer.step()\n",
    "\n",
    "# generate from the model\n",
    "context = torch.zeros((1, 1), dtype=torch.long, device=device)\n",
    "print(decode(m.generate(context, max_new_tokens=2000)[0].tolist()))\n"
   ]
  },
  {
   "cell_type": "code",
   "execution_count": null,
   "metadata": {},
   "outputs": [],
   "source": []
  }
 ],
 "metadata": {
  "kernelspec": {
   "display_name": "venv",
   "language": "python",
   "name": "python3"
  },
  "language_info": {
   "codemirror_mode": {
    "name": "ipython",
    "version": 3
   },
   "file_extension": ".py",
   "mimetype": "text/x-python",
   "name": "python",
   "nbconvert_exporter": "python",
   "pygments_lexer": "ipython3",
   "version": "3.9.16"
  },
  "orig_nbformat": 4
 },
 "nbformat": 4,
 "nbformat_minor": 2
}

{
 "cells": [
  {
   "cell_type": "code",
   "execution_count": 1,
   "metadata": {},
   "outputs": [
    {
     "name": "stderr",
     "output_type": "stream",
     "text": [
      "/Users/vihidun/Library/Python/3.11/lib/python/site-packages/tqdm/auto.py:21: TqdmWarning: IProgress not found. Please update jupyter and ipywidgets. See https://ipywidgets.readthedocs.io/en/stable/user_install.html\n",
      "  from .autonotebook import tqdm as notebook_tqdm\n"
     ]
    }
   ],
   "source": [
    "import emotionScript"
   ]
  },
  {
   "cell_type": "code",
   "execution_count": 2,
   "metadata": {},
   "outputs": [],
   "source": [
    "model, tokenizer, emotionQueue = emotionScript.initialize()"
   ]
  },
  {
   "cell_type": "code",
   "execution_count": 4,
   "metadata": {},
   "outputs": [],
   "source": [
    "sentence = \"I want to leave this home\""
   ]
  },
  {
   "cell_type": "code",
   "execution_count": 5,
   "metadata": {},
   "outputs": [
    {
     "name": "stdout",
     "output_type": "stream",
     "text": [
      "1/1 [==============================] - 1s 737ms/step\n",
      "anger\n",
      "1/1 [==============================] - 0s 18ms/step\n",
      "deque(['anger'], maxlen=10)\n",
      "anger\n"
     ]
    }
   ],
   "source": [
    "print(emotionScript.getInstantEmotion([sentence], model, tokenizer))\n",
    "print(emotionScript.getEmotion([sentence], model, tokenizer, emotionQueue))"
   ]
  },
  {
   "cell_type": "code",
   "execution_count": 6,
   "metadata": {},
   "outputs": [
    {
     "name": "stdout",
     "output_type": "stream",
     "text": [
      "I want to leave this viva\n",
      "1/1 [==============================] - 0s 17ms/step\n",
      "anger\n",
      "1/1 [==============================] - 0s 15ms/step\n",
      "deque(['anger', 'anger'], maxlen=10)\n",
      "anger\n"
     ]
    }
   ],
   "source": [
    "print(sentence)\n",
    "print(emotionScript.getInstantEmotion([sentence], model, tokenizer))\n",
    "print(emotionScript.getEmotion([sentence], model, tokenizer, emotionQueue))"
   ]
  },
  {
   "cell_type": "code",
   "execution_count": 7,
   "metadata": {},
   "outputs": [
    {
     "name": "stdout",
     "output_type": "stream",
     "text": [
      "I want to leave this viva\n",
      "1/1 [==============================] - 0s 15ms/step\n",
      "anger\n",
      "1/1 [==============================] - 0s 15ms/step\n",
      "deque(['anger', 'anger', 'anger'], maxlen=10)\n",
      "anger\n"
     ]
    }
   ],
   "source": [
    "print(sentence)\n",
    "print(emotionScript.getInstantEmotion([sentence], model, tokenizer))\n",
    "print(emotionScript.getEmotion([sentence], model, tokenizer, emotionQueue))"
   ]
  },
  {
   "cell_type": "code",
   "execution_count": 8,
   "metadata": {},
   "outputs": [
    {
     "name": "stdout",
     "output_type": "stream",
     "text": [
      "I want to leave this viva\n",
      "1/1 [==============================] - 0s 15ms/step\n",
      "anger\n",
      "1/1 [==============================] - 0s 15ms/step\n",
      "deque(['anger', 'anger', 'anger', 'anger'], maxlen=10)\n",
      "anger\n"
     ]
    }
   ],
   "source": [
    "print(sentence)\n",
    "print(emotionScript.getInstantEmotion([sentence], model, tokenizer))\n",
    "print(emotionScript.getEmotion([sentence], model, tokenizer, emotionQueue))"
   ]
  },
  {
   "cell_type": "code",
   "execution_count": 9,
   "metadata": {},
   "outputs": [
    {
     "name": "stdout",
     "output_type": "stream",
     "text": [
      "I want to leave this viva\n",
      "1/1 [==============================] - 0s 16ms/step\n",
      "anger\n",
      "1/1 [==============================] - 0s 16ms/step\n",
      "deque(['anger', 'anger', 'anger', 'anger', 'anger'], maxlen=10)\n",
      "anger\n"
     ]
    }
   ],
   "source": [
    "print(sentence)\n",
    "print(emotionScript.getInstantEmotion([sentence], model, tokenizer))\n",
    "print(emotionScript.getEmotion([sentence], model, tokenizer, emotionQueue))"
   ]
  },
  {
   "cell_type": "code",
   "execution_count": 10,
   "metadata": {},
   "outputs": [
    {
     "name": "stdout",
     "output_type": "stream",
     "text": [
      "I want to leave this viva\n",
      "1/1 [==============================] - 0s 14ms/step\n",
      "anger\n",
      "1/1 [==============================] - 0s 14ms/step\n",
      "deque(['anger', 'anger', 'anger', 'anger', 'anger', 'anger'], maxlen=10)\n",
      "anger\n"
     ]
    }
   ],
   "source": [
    "print(sentence)\n",
    "print(emotionScript.getInstantEmotion([sentence], model, tokenizer))\n",
    "print(emotionScript.getEmotion([sentence], model, tokenizer, emotionQueue))"
   ]
  },
  {
   "cell_type": "code",
   "execution_count": 11,
   "metadata": {},
   "outputs": [
    {
     "name": "stdout",
     "output_type": "stream",
     "text": [
      "I want to leave this viva\n",
      "1/1 [==============================] - 0s 16ms/step\n",
      "anger\n",
      "1/1 [==============================] - 0s 15ms/step\n",
      "deque(['anger', 'anger', 'anger', 'anger', 'anger', 'anger', 'anger'], maxlen=10)\n",
      "anger\n"
     ]
    }
   ],
   "source": [
    "print(sentence)\n",
    "print(emotionScript.getInstantEmotion([sentence], model, tokenizer))\n",
    "print(emotionScript.getEmotion([sentence], model, tokenizer, emotionQueue))"
   ]
  },
  {
   "cell_type": "code",
   "execution_count": 12,
   "metadata": {},
   "outputs": [
    {
     "name": "stdout",
     "output_type": "stream",
     "text": [
      "I want to leave this viva\n",
      "1/1 [==============================] - 0s 14ms/step\n",
      "anger\n",
      "1/1 [==============================] - 0s 15ms/step\n",
      "deque(['anger', 'anger', 'anger', 'anger', 'anger', 'anger', 'anger', 'anger'], maxlen=10)\n",
      "anger\n"
     ]
    }
   ],
   "source": [
    "print(sentence)\n",
    "print(emotionScript.getInstantEmotion([sentence], model, tokenizer))\n",
    "print(emotionScript.getEmotion([sentence], model, tokenizer, emotionQueue))"
   ]
  },
  {
   "cell_type": "code",
   "execution_count": 13,
   "metadata": {},
   "outputs": [
    {
     "name": "stdout",
     "output_type": "stream",
     "text": [
      "I want to leave this viva\n",
      "1/1 [==============================] - 0s 15ms/step\n",
      "anger\n",
      "1/1 [==============================] - 0s 17ms/step\n",
      "deque(['anger', 'anger', 'anger', 'anger', 'anger', 'anger', 'anger', 'anger', 'anger'], maxlen=10)\n",
      "anger\n"
     ]
    }
   ],
   "source": [
    "print(sentence)\n",
    "print(emotionScript.getInstantEmotion([sentence], model, tokenizer))\n",
    "print(emotionScript.getEmotion([sentence], model, tokenizer, emotionQueue))"
   ]
  },
  {
   "cell_type": "code",
   "execution_count": 14,
   "metadata": {},
   "outputs": [
    {
     "name": "stdout",
     "output_type": "stream",
     "text": [
      "I want to leave this viva\n",
      "1/1 [==============================] - 0s 15ms/step\n",
      "anger\n",
      "1/1 [==============================] - 0s 15ms/step\n",
      "deque(['anger', 'anger', 'anger', 'anger', 'anger', 'anger', 'anger', 'anger', 'anger', 'anger'], maxlen=10)\n",
      "anger\n"
     ]
    }
   ],
   "source": [
    "print(sentence)\n",
    "print(emotionScript.getInstantEmotion([sentence], model, tokenizer))\n",
    "print(emotionScript.getEmotion([sentence], model, tokenizer, emotionQueue))"
   ]
  },
  {
   "cell_type": "code",
   "execution_count": 15,
   "metadata": {},
   "outputs": [
    {
     "name": "stdout",
     "output_type": "stream",
     "text": [
      "I want to leave this viva\n",
      "1/1 [==============================] - 0s 14ms/step\n",
      "anger\n",
      "1/1 [==============================] - 0s 15ms/step\n",
      "deque(['anger', 'anger', 'anger', 'anger', 'anger', 'anger', 'anger', 'anger', 'anger', 'anger'], maxlen=10)\n",
      "anger\n"
     ]
    }
   ],
   "source": [
    "print(sentence)\n",
    "print(emotionScript.getInstantEmotion([sentence], model, tokenizer))\n",
    "print(emotionScript.getEmotion([sentence], model, tokenizer, emotionQueue))"
   ]
  },
  {
   "cell_type": "code",
   "execution_count": 16,
   "metadata": {},
   "outputs": [],
   "source": [
    "sentence = \"Wait, you're telling me you knew all along and didn't say anything?\""
   ]
  },
  {
   "cell_type": "code",
   "execution_count": 17,
   "metadata": {},
   "outputs": [
    {
     "name": "stdout",
     "output_type": "stream",
     "text": [
      "Wait, you're telling me you knew all along and didn't say anything?\n",
      "1/1 [==============================] - 0s 15ms/step\n",
      "surprise\n",
      "1/1 [==============================] - 0s 15ms/step\n",
      "deque(['anger', 'anger', 'anger', 'anger', 'anger', 'anger', 'anger', 'anger', 'anger', 'surprise'], maxlen=10)\n",
      "anger\n"
     ]
    }
   ],
   "source": [
    "print(sentence)\n",
    "print(emotionScript.getInstantEmotion([sentence], model, tokenizer))\n",
    "print(emotionScript.getEmotion([sentence], model, tokenizer, emotionQueue))"
   ]
  }
 ],
 "metadata": {
  "kernelspec": {
   "display_name": "Python 3",
   "language": "python",
   "name": "python3"
  },
  "language_info": {
   "codemirror_mode": {
    "name": "ipython",
    "version": 3
   },
   "file_extension": ".py",
   "mimetype": "text/x-python",
   "name": "python",
   "nbconvert_exporter": "python",
   "pygments_lexer": "ipython3",
   "version": "3.11.5"
  },
  "orig_nbformat": 4
 },
 "nbformat": 4,
 "nbformat_minor": 2
}
